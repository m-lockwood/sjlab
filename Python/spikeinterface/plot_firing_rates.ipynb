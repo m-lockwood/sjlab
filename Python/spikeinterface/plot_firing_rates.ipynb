{
 "cells": [
  {
   "cell_type": "markdown",
   "metadata": {},
   "source": [
    "#### Script to plot firing rate between dot offset and reward delivery for each neuron in a session.\n",
    "\n",
    "**Prerequisites**\n",
    "- Install python environment 'spikeinterface_fnt'\n",
    "- Run script to create a data frame with harp timestamps aligned to key behavioural events.\n",
    "- Run spike sorting pipeline for the session of interest.\n",
    "\n",
    "**Inputs:**\n",
    "- Output from Kilosort spike-sorting in a subfolder (specified by the user) within the session folder.\n",
    "- Raw Open-ephys data within session folder.\n",
    "\n",
    "**Key outputs**\n",
    "\n",
    "\n",
    "**Overview** \n",
    "1. Read (or create) sorting analyzer object\n",
    "2. Extract firing rates for all (good) units based on spike sorting\n"
   ]
  },
  {
   "cell_type": "markdown",
   "metadata": {},
   "source": [
    "**Configure directory parameters**"
   ]
  },
  {
   "cell_type": "code",
   "execution_count": 26,
   "metadata": {},
   "outputs": [],
   "source": [
    "import os\n",
    "import glob\n",
    "import spikeinterface.core as sc\n",
    "import pandas as pd\n",
    "import numpy as np\n",
    "#==============================================================================\n",
    "\n",
    "animal_ID = 'FNT099'\n",
    "session_ID = '2024-05-13T11-03-59'\n",
    "\n",
    "# path behavioural data on ceph repo\n",
    "input_root_dir = \"W:/projects/FlexiVexi/behavioural_data\" \n",
    "output_root_dir = (\n",
    "    \"C:/Users/megan/Documents/sjlab/flexible-navigation-task/Data Analysis\"\n",
    ")\n",
    "\n",
    "kilosort_subfolder = 'Kilosort3'\n",
    "#==============================================================================\n",
    "\n",
    "session_folder = os.path.join(input_root_dir, animal_ID, session_ID)\n",
    "session_folder_intermediate_variables = os.path.join(output_root_dir, 'intermediate_variables', animal_ID, session_ID)"
   ]
  },
  {
   "cell_type": "markdown",
   "metadata": {},
   "source": [
    "**Create sorting analyzer for session**"
   ]
  },
  {
   "cell_type": "code",
   "execution_count": 9,
   "metadata": {},
   "outputs": [
    {
     "name": "stdout",
     "output_type": "stream",
     "text": [
      "KiloSortSortingExtractor: 110 units - 1 segments - 30.0kHz\n"
     ]
    },
    {
     "data": {
      "application/vnd.jupyter.widget-view+json": {
       "model_id": "53340b82ad0843ad9c7d34b86f87401e",
       "version_major": 2,
       "version_minor": 0
      },
      "text/plain": [
       "estimate_sparsity:   0%|          | 0/3271 [00:00<?, ?it/s]"
      ]
     },
     "metadata": {},
     "output_type": "display_data"
    }
   ],
   "source": [
    "import spikeinterface.extractors as se\n",
    "\n",
    "# Path to Kilosort output files within session folder\n",
    "kilosort_folder = os.path.join(session_folder, kilosort_subfolder, 'sorter_output')\n",
    "\n",
    "# Get output from spike sorting using Kilosort, keeping only good units (according to Kilosort's criteria)\n",
    "sorting_KS = se.read_kilosort(folder_path=kilosort_folder,keep_good_only=True)\n",
    "print(sorting_KS)\n",
    "\n",
    "# Get path to Open-Ephys Record Node within session folder\n",
    "matching_files = glob.glob(os.path.join(session_folder, '**', 'settings.xml'), recursive=True)\n",
    "if matching_files:\n",
    "    # Get the first matching file\n",
    "    first_matching_file = matching_files[0]\n",
    "\n",
    "    # Get the directory of the first matching file\n",
    "    path_to_recording = os.path.dirname(first_matching_file)\n",
    "else:\n",
    "    print(\"No 'settings.xml' file found in the specified path.\")\n",
    "        \n",
    "    # Get recording from open ephys\n",
    "recording = se.read_openephys(folder_path=path_to_recording, stream_name = 'Record Node 102#Neuropix-PXI-100.ProbeA')\n",
    "\n",
    "# Create sorting analyzer\n",
    "sorting_analyzer = sc.create_sorting_analyzer(sorting_KS, recording)"
   ]
  },
  {
   "cell_type": "markdown",
   "metadata": {},
   "source": [
    "**Get firing rates of an example neuron**"
   ]
  },
  {
   "cell_type": "code",
   "execution_count": 27,
   "metadata": {},
   "outputs": [],
   "source": [
    "import spikeinterface.qualitymetrics as sqm\n",
    "\n",
    "# Example parameters\n",
    "window_size = 0.05  # 50ms window\n",
    "step_size = 0.025    # 25ms step (50% overlap)\n",
    "\n",
    "def calculate_firing_rate_over_time(spike_times, window_size, step_size, total_time):\n",
    "    \"\"\"\n",
    "    Calculate the firing rate over time using a sliding window.\n",
    "    \n",
    "    Parameters:\n",
    "    - spike_times: array-like, spike times of the unit\n",
    "    - window_size: float, size of the sliding window in seconds\n",
    "    - step_size: float, step size for the sliding window in seconds\n",
    "    - total_time: float, total duration of the recording in seconds\n",
    "    \n",
    "    Returns:\n",
    "    - firing_rates: list, firing rates over time\n",
    "    \"\"\"\n",
    "    firing_rates = []\n",
    "    for start_time in np.arange(0, total_time, step_size):\n",
    "        end_time = start_time + window_size\n",
    "        spikes_in_window = np.sum((spike_times >= start_time) & (spike_times < end_time))\n",
    "        firing_rate = spikes_in_window / window_size\n",
    "        firing_rates.append(firing_rate)\n",
    "    return firing_rates\n",
    "\n",
    "# Specify the unit ID you are interested in\n",
    "unit_ids = sorting_KS.get_unit_ids()\n",
    "\n",
    "##firing_rate is a dict containing the unit IDs as keys,\n",
    "## and their firing rates across segments as values (in Hz).\n",
    "#firing_rate = sqm.compute_firing_rates(sorting_analyzer)\n",
    "\n",
    "# Exclude neurons with firing rates less than 0.5Hz\n",
    "\n",
    "# Get the spike times for the specified unit\n",
    "spike_times = sorting_KS.get_unit_spike_train(unit_id)\n",
    "total_time = max(spike_times) # total duration of the recording in seconds\n",
    "\n",
    "# Calculate firing rate over time\n",
    "firing_rate = calculate_firing_rate_over_time(spike_times, window_size, step_size, total_time)"
   ]
  },
  {
   "cell_type": "markdown",
   "metadata": {},
   "source": [
    "**Plot changes in firing rate over time**"
   ]
  },
  {
   "cell_type": "code",
   "execution_count": 10,
   "metadata": {},
   "outputs": [],
   "source": [
    "\n",
    "\n"
   ]
  }
 ],
 "metadata": {
  "kernelspec": {
   "display_name": "kilosort3analysis",
   "language": "python",
   "name": "python3"
  },
  "language_info": {
   "codemirror_mode": {
    "name": "ipython",
    "version": 3
   },
   "file_extension": ".py",
   "mimetype": "text/x-python",
   "name": "python",
   "nbconvert_exporter": "python",
   "pygments_lexer": "ipython3",
   "version": "3.12.2"
  }
 },
 "nbformat": 4,
 "nbformat_minor": 2
}
