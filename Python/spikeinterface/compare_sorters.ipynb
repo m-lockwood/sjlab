{
 "cells": [
  {
   "cell_type": "code",
   "execution_count": 8,
   "metadata": {},
   "outputs": [],
   "source": [
    "import spikeinterface.extractors as se\n",
    "import spikeinterface.comparison as sc\n",
    "import spikeinterface.widgets as sw\n",
    "\n",
    "import numpy as np\n",
    "import matplotlib.pyplot as plt\n",
    "import pandas as pd\n",
    "from pathlib import Path\n",
    "import os\n",
    "import glob\n",
    "\n",
    "%matplotlib inline\n",
    "\n",
    "#######################################################################\n",
    "animal_ID = 'FNT098'\n",
    "session_ID = '2024-04-11T10-45-54'\n",
    "\n",
    "base_folder = r\"W:\\projects\\FlexiVexi\\behavioural_data\"\n",
    "session_folder = os.path.join(base_folder, animal_ID, session_ID)\n",
    "\n",
    "#######################################################################"
   ]
  },
  {
   "cell_type": "markdown",
   "metadata": {},
   "source": [
    "**Directly compare Kilosort 2.5 and Kilosort 3**"
   ]
  },
  {
   "cell_type": "code",
   "execution_count": 20,
   "metadata": {},
   "outputs": [
    {
     "name": "stdout",
     "output_type": "stream",
     "text": [
      "KS2.5 KiloSortSortingExtractor: 75 units - 1 segments - 30.0kHz\n",
      "KS3 KiloSortSortingExtractor: 111 units - 1 segments - 30.0kHz\n"
     ]
    },
    {
     "data": {
      "text/plain": [
       "<spikeinterface.widgets.comparison.AgreementMatrixWidget at 0x1b17ac54ef0>"
      ]
     },
     "execution_count": 20,
     "metadata": {},
     "output_type": "execute_result"
    },
    {
     "data": {
      "image/png": "[encoded data removed]",
      "text/plain": [
       "<Figure size 640x480 with 1 Axes>"
      ]
     },
     "metadata": {},
     "output_type": "display_data"
    }
   ],
   "source": [
    "# Get output from spike sorting using Kilosort2_5, keeping only good units\n",
    "kilosort2_5_folder = os.path.join(session_folder, 'Kilosort2_5', 'sorter_output')\n",
    "sorting_KS25 = se.read_kilosort(folder_path=kilosort2_5_folder,keep_good_only=True)\n",
    "print(f\"KS2.5 {sorting_KS25}\")\n",
    "\n",
    "# Get output from spike sorting using Kilosort3, keeping only good units\n",
    "kilosort3_folder = os.path.join(session_folder, 'Kilosort3', 'sorter_output')\n",
    "sorting_KS3 = se.read_kilosort(folder_path=kilosort3_folder,keep_good_only=True)\n",
    "print(f\"KS3 {sorting_KS3}\")\n",
    "\n",
    "# create comparison object comparing KS2.5 and KS3\n",
    "cmp_KS25_KS_3 = sc.compare_two_sorters(sorting1=sorting_KS25, sorting2=sorting_KS3,\n",
    "                                               sorting1_name='KS2.5', sorting2_name='KS3')\n",
    "\n",
    "# plot agreement matrix\n",
    "sw.plot_agreement_matrix(cmp_KS25_KS_3, ordered=True, unit_ticks=False, count_text=False)"
   ]
  }
 ],
 "metadata": {
  "kernelspec": {
   "display_name": "spikeinterface",
   "language": "python",
   "name": "python3"
  },
  "language_info": {
   "codemirror_mode": {
    "name": "ipython",
    "version": 3
   },
   "file_extension": ".py",
   "mimetype": "text/x-python",
   "name": "python",
   "nbconvert_exporter": "python",
   "pygments_lexer": "ipython3",
   "version": "3.12.2"
  }
 },
 "nbformat": 4,
 "nbformat_minor": 2
}
