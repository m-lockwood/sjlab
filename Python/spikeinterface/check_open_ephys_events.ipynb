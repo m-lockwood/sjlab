{
 "cells": [
  {
   "cell_type": "markdown",
   "metadata": {},
   "source": [
    "#### Check all events are present in Open-Ephys output\n",
    "\n",
    "Iterates through all sessions of an animal and prints the unique labels for events in continuous.dat file in 'NI-DAQmx-103.PXIe-6341' data stream. '1' denotes the heartbeat pulse every second (duration 0.5 seconds), and '4' denotes a TTL pulse"
   ]
  },
  {
   "cell_type": "code",
   "execution_count": null,
   "metadata": {},
   "outputs": [],
   "source": [
    "import os\n",
    "import glob\n",
    "import spikeinterface.extractors as se\n",
    "import pandas as pd\n",
    "import numpy as np\n",
    "\n",
    "# Define variables\n",
    "input_root_dir = \"W:\\\\projects\\\\FlexiVexi\\\\behavioural_data\"\n",
    "animal_ID = 'FNT098'\n",
    "kilosort_subfolder = 'intermediate_variables'\n",
    "\n",
    "# List all the names of all subfolders within animal folder\n",
    "animal_folder = os.path.join(input_root_dir, animal_ID)\n",
    "session_list = [f.path for f in os.scandir(animal_folder) if f.is_dir()]\n",
    "\n",
    "# Iterate through all sessions in session_list and return session folder and unique labels in event_info_PXI\n",
    "for session_folder in session_list:\n",
    "\n",
    "    # Get path to Open-Ephys Record Node within session folder\n",
    "    matching_files = glob.glob(os.path.join(session_folder, '**', 'settings.xml'), recursive=True)\n",
    "    if matching_files:\n",
    "\n",
    "        # Get the first matching file\n",
    "        first_matching_file = matching_files[0]\n",
    "\n",
    "        # Get the directory of the first matching file\n",
    "        path_to_recording = os.path.dirname(first_matching_file)\n",
    "\n",
    "        # Read open ephys event times\n",
    "        event = se.read_openephys_event(folder_path=path_to_recording)\n",
    "\n",
    "        # Get PXI channel ID\n",
    "        PXI_channel_ID = event.channel_ids[1]\n",
    "\n",
    "        # Get event times and event info for the PXI channel\n",
    "        event_times_PXI = event.get_event_times(channel_id=PXI_channel_ID)\n",
    "        event_info_PXI = event.get_events(channel_id=PXI_channel_ID)\n",
    "\n",
    "        # Get unique values in event_info_PXI labels\n",
    "        unique_labels = np.unique(event_info_PXI['label'])\n",
    "        print(session_folder)\n",
    "        print('Unique labels: ' + str(unique_labels))\n",
    "\n",
    "        # Append unique labels and session ID to pandas data frame\n",
    "        #df = df.concat(df, {'session_ID': os.path.basename(session_folder), 'unique_labels': unique_labels}, ignore_index=True)"
   ]
  }
 ],
 "metadata": {
  "language_info": {
   "name": "python"
  }
 },
 "nbformat": 4,
 "nbformat_minor": 2
}
