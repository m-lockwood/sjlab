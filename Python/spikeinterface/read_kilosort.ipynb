{
 "cells": [
  {
   "cell_type": "code",
   "execution_count": 6,
   "metadata": {},
   "outputs": [],
   "source": [
    "import spikeinterface.core as sc\n",
    "import spikeinterface.extractors as se\n",
    "import spikeinterface.qualitymetrics as sqm\n",
    "import spikeinterface.widgets as sw\n",
    "import spikeinterface.exporters as sexp\n",
    "\n",
    "import numpy as np\n",
    "import matplotlib.pyplot as plt\n",
    "import pandas as pd\n",
    "from pathlib import Path\n",
    "import os\n",
    "import glob\n",
    "\n",
    "%matplotlib inline\n",
    "\n",
    "#######################################################################\n",
    "animal_ID = 'FNT098'\n",
    "session_ID = '2024-03-11T11-24-46'\n",
    "\n",
    "base_folder = r\"W:\\projects\\FlexiVexi\\behavioural_data\"\n",
    "session_folder = os.path.join(base_folder, animal_ID, session_ID)\n",
    "\n",
    "#######################################################################\n",
    "\n",
    "overwrite_sa=True"
   ]
  },
  {
   "cell_type": "markdown",
   "metadata": {},
   "source": [
    "**Read in recording and spike sorting**"
   ]
  },
  {
   "cell_type": "code",
   "execution_count": 2,
   "metadata": {},
   "outputs": [
    {
     "name": "stdout",
     "output_type": "stream",
     "text": [
      "KiloSortSortingExtractor: 199 units - 1 segments - 30.0kHz\n"
     ]
    }
   ],
   "source": [
    "# Path to Kilosort3 output files within session folder\n",
    "kilosort_folder = os.path.join(session_folder, 'kilosort3_v3')\n",
    "\n",
    "# Get output from spike sorting using Kilosort3, keeping only good units\n",
    "sorting_KS = se.read_kilosort(folder_path=kilosort_folder,keep_good_only=True)\n",
    "print(sorting_KS)\n",
    "\n",
    "# Get path to Open-Ephys Record Node within session folder\n",
    "matching_files = glob.glob(os.path.join(session_folder, '**', 'settings.xml'), recursive=True)\n",
    "if matching_files:\n",
    "    # Get the first matching file\n",
    "    first_matching_file = matching_files[0]\n",
    "  \n",
    "    # Get the directory of the first matching file\n",
    "    path_to_recording = os.path.dirname(first_matching_file)\n",
    "else:\n",
    "    print(\"No 'settings.xml' file found in the specified path.\")\n",
    "    \n",
    "# Get recording from open ephys\n",
    "recording = se.read_openephys(folder_path=path_to_recording, stream_name = 'Record Node 102#Neuropix-PXI-100.ProbeA')"
   ]
  },
  {
   "cell_type": "markdown",
   "metadata": {},
   "source": [
    "**Get sorting analyzer**"
   ]
  },
  {
   "cell_type": "code",
   "execution_count": 7,
   "metadata": {},
   "outputs": [
    {
     "data": {
      "application/vnd.jupyter.widget-view+json": {
       "model_id": "c5e5a3fe42a74a5193573a1a8cb345eb",
       "version_major": 2,
       "version_minor": 0
      },
      "text/plain": [
       "estimate_sparsity:   0%|          | 0/3475 [00:00<?, ?it/s]"
      ]
     },
     "metadata": {},
     "output_type": "display_data"
    },
    {
     "data": {
      "application/vnd.jupyter.widget-view+json": {
       "model_id": "26f9f62acee844a1a13cb11ceebf33ee",
       "version_major": 2,
       "version_minor": 0
      },
      "text/plain": [
       "compute_waveforms:   0%|          | 0/3475 [00:00<?, ?it/s]"
      ]
     },
     "metadata": {},
     "output_type": "display_data"
    },
    {
     "data": {
      "application/vnd.jupyter.widget-view+json": {
       "model_id": "df076a8a62654e169eafc14af2dd3c58",
       "version_major": 2,
       "version_minor": 0
      },
      "text/plain": [
       "Fitting PCA:   0%|          | 0/199 [00:00<?, ?it/s]"
      ]
     },
     "metadata": {},
     "output_type": "display_data"
    },
    {
     "data": {
      "application/vnd.jupyter.widget-view+json": {
       "model_id": "a760592247ac4e108ee8ec8fbc0229a6",
       "version_major": 2,
       "version_minor": 0
      },
      "text/plain": [
       "Projecting waveforms:   0%|          | 0/199 [00:00<?, ?it/s]"
      ]
     },
     "metadata": {},
     "output_type": "display_data"
    },
    {
     "ename": "AttributeError",
     "evalue": "'SortingAnalyzer' object has no attribute 'save'",
     "output_type": "error",
     "traceback": [
      "\u001b[1;31m---------------------------------------------------------------------------\u001b[0m",
      "\u001b[1;31mAttributeError\u001b[0m                            Traceback (most recent call last)",
      "Cell \u001b[1;32mIn[7], line 24\u001b[0m\n\u001b[0;32m     21\u001b[0m     sorting_analyzer\u001b[38;5;241m.\u001b[39mget_extension(\u001b[38;5;124m'\u001b[39m\u001b[38;5;124mtemplates\u001b[39m\u001b[38;5;124m'\u001b[39m)\u001b[38;5;241m.\u001b[39mget_data()\n\u001b[0;32m     23\u001b[0m     \u001b[38;5;66;03m# Save sorting analyzer to a .pkl file\u001b[39;00m\n\u001b[1;32m---> 24\u001b[0m     \u001b[43msorting_analyzer\u001b[49m\u001b[38;5;241;43m.\u001b[39;49m\u001b[43msave\u001b[49m(folder\u001b[38;5;241m=\u001b[39moutput_folder, filename\u001b[38;5;241m=\u001b[39mfilename_sa)\n\u001b[0;32m     26\u001b[0m \u001b[38;5;66;03m# Print sorting analyzer metadata\u001b[39;00m\n\u001b[0;32m     27\u001b[0m available_extension_names \u001b[38;5;241m=\u001b[39m sorting_analyzer\u001b[38;5;241m.\u001b[39mget_loaded_extension_names()\n",
      "\u001b[1;31mAttributeError\u001b[0m: 'SortingAnalyzer' object has no attribute 'save'"
     ]
    }
   ],
   "source": [
    "output_folder = os.path.join(session_folder, 'spikeinterface')\n",
    "filename_sa = 'sorting_analyzer_'+session_ID+'.pkl'\n",
    "filepath_sa = os.path.join(output_folder, filename_sa)\n",
    "\n",
    "if glob.glob(filepath_sa) and overwrite_sa == False:\n",
    "    sorting_analyzer = sc.load_sorting_analyzer(folder=filepath_sa)\n",
    "    print('Sorting analyzer loaded from:', filepath_sa)\n",
    "else:\n",
    "    # Create a sorting analyzer\n",
    "    sorting_analyzer = sc.create_sorting_analyzer(sorting_KS, recording)\n",
    "\n",
    "    # Compute sorting analyzer info for main analysis\n",
    "    sorting_analyzer.compute(\"random_spikes\")\n",
    "    sorting_analyzer.compute(\"waveforms\")\n",
    "\n",
    "    # Compute sorting analyzer info for quality metrics\n",
    "    sorting_analyzer.compute(\"templates\")\n",
    "    sorting_analyzer.compute(\"noise_levels\")\n",
    "    sorting_analyzer.compute(\"principal_components\")\n",
    "    sorting_analyzer.get_extension('principal_components').get_data()  \n",
    "    sorting_analyzer.get_extension('templates').get_data()\n",
    "\n",
    "    # Save sorting analyzer to a .pkl file\n",
    "    sorting_analyzer.save_as(folder=os.path.join(output_folder,filename_sa))\n",
    "    print('Sorting analyzer saved to:', os.path.join(output_folder,filename_sa))\n",
    "\n",
    "# Print sorting analyzer metadata\n",
    "available_extension_names = sorting_analyzer.get_loaded_extension_names()\n",
    "print(available_extension_names)"
   ]
  },
  {
   "cell_type": "code",
   "execution_count": 10,
   "metadata": {},
   "outputs": [
    {
     "name": "stdout",
     "output_type": "stream",
     "text": [
      "['noise_levels', 'principal_components', 'quality_metrics', 'random_spikes', 'templates', 'waveforms']\n"
     ]
    }
   ],
   "source": [
    "## Load recording and sorting analyzer (if sorting analyzer it exists)\n",
    "\n",
    "# Load recording from open ephys binary file\n",
    "# Get path to Open-Ephys Record Node within session folder\n",
    "matching_files = glob.glob(os.path.join(session_folder, '**', 'settings.xml'), recursive=True)\n",
    "if matching_files:\n",
    "    # Get the first matching file\n",
    "    first_matching_file = matching_files[0]\n",
    "\n",
    "    # Get the directory of the first matching file\n",
    "    path_to_recording = os.path.dirname(first_matching_file)\n",
    "else:\n",
    "    print(\"No 'settings.xml' file found in the specified path.\")\n",
    "recording = se.read_openephys(folder_path=path_to_recording, stream_name = 'Record Node 102#Neuropix-PXI-100.ProbeA')\n",
    "\n",
    "# Load sorting analyzer .pkl file\n",
    "output_folder = os.path.join(session_folder, 'spikeinterface')\n",
    "filename_sa = 'sorting_analyzer_'+session_ID+'.pkl'\n",
    "path_to_sa = os.path.join(output_folder, filename_sa) \n",
    "\n",
    "sorting_analyzer = sc.load_sorting_analyzer(folder=filepath)\n",
    "available_extension_names = sorting_analyzer.get_loaded_extension_names()\n",
    "print(available_extension_names)\n",
    "\n",
    "sorting_analyzer"
   ]
  },
  {
   "cell_type": "code",
   "execution_count": 18,
   "metadata": {},
   "outputs": [
    {
     "data": {
      "image/png": "[encoded data removed]",
      "text/plain": [
       "<Figure size 640x480 with 1 Axes>"
      ]
     },
     "metadata": {},
     "output_type": "display_data"
    }
   ],
   "source": [
    "# Get all unit ids. If keep_good_only=True, only IDs of good units are returned\n",
    "unit_ids = sorting_analyzer.unit_ids[:] \n",
    "\n",
    "# Plots rasters of first 20 units\n",
    "w_rs = sw.plot_rasters(sorting_analyzer, time_range=(100, 300), unit_ids = unit_ids[1:20])"
   ]
  },
  {
   "cell_type": "markdown",
   "metadata": {},
   "source": [
    "**Get recording metadata**"
   ]
  },
  {
   "cell_type": "code",
   "execution_count": 4,
   "metadata": {},
   "outputs": [
    {
     "name": "stdout",
     "output_type": "stream",
     "text": [
      "Sampling frequency: 30000.0\n",
      "Number of channels: 384\n",
      "Number of segments: 1\n",
      "Probe - 384ch - 4shanks\n"
     ]
    },
    {
     "data": {
      "text/plain": [
       "(<matplotlib.collections.PolyCollection at 0x1cd4662ab40>,\n",
       " <matplotlib.collections.PolyCollection at 0x1cd466674d0>)"
      ]
     },
     "execution_count": 4,
     "metadata": {},
     "output_type": "execute_result"
    },
    {
     "data": {
      "image/png": "[encoded data removed]",
      "text/plain": [
       "<Figure size 640x480 with 1 Axes>"
      ]
     },
     "metadata": {},
     "output_type": "display_data"
    }
   ],
   "source": [
    "# Get basic meta-data from recording\n",
    "channel_ids = recording.get_channel_ids()\n",
    "fs = recording.get_sampling_frequency()\n",
    "num_chan = recording.get_num_channels()\n",
    "num_seg = recording.get_num_segments()\n",
    "\n",
    "print(\"Sampling frequency:\", fs)\n",
    "print(\"Number of channels:\", num_chan)\n",
    "print(\"Number of segments:\", num_seg)\n",
    "\n",
    "probe = recording.get_probe()\n",
    "print(probe)\n",
    "\n",
    "from probeinterface.plotting import plot_probe\n",
    "\n",
    "plot_probe(probe)"
   ]
  },
  {
   "cell_type": "markdown",
   "metadata": {},
   "source": [
    "**Compute PCA and non-PCA metrics together**"
   ]
  },
  {
   "cell_type": "code",
   "execution_count": 19,
   "metadata": {},
   "outputs": [
    {
     "name": "stderr",
     "output_type": "stream",
     "text": [
      "C:\\Users\\megan\\Documents\\GitHub\\spikeinterface\\src\\spikeinterface\\qualitymetrics\\misc_metrics.py:880: UserWarning: Some units have too few spikes : amplitude_cutoff is set to NaN\n",
      "  warnings.warn(f\"Some units have too few spikes : amplitude_cutoff is set to NaN\")\n",
      "C:\\Users\\megan\\Documents\\GitHub\\spikeinterface\\src\\spikeinterface\\qualitymetrics\\misc_metrics.py:724: UserWarning: compute_amplitude_cv_metrics() need 'spike_amplitudes' or 'amplitude_scalings'\n",
      "  warnings.warn(\"compute_amplitude_cv_metrics() need 'spike_amplitudes' or 'amplitude_scalings'\")\n",
      "C:\\Users\\megan\\Documents\\GitHub\\spikeinterface\\src\\spikeinterface\\qualitymetrics\\misc_metrics.py:1457: UserWarning: The `sd_ratio` metric require the `spike_amplitudes` waveform extension. Use the `postprocessing.compute_spike_amplitudes()` functions. SD ratio metric will be set to NaN\n",
      "  warnings.warn(\n"
     ]
    },
    {
     "data": {
      "application/vnd.jupyter.widget-view+json": {
       "model_id": "1ea06dd2e7bd47a8a7dd2842c7f0acb0",
       "version_major": 2,
       "version_minor": 0
      },
      "text/plain": [
       "calculate_pc_metrics:   0%|          | 0/199 [00:00<?, ?it/s]"
      ]
     },
     "metadata": {},
     "output_type": "display_data"
    },
    {
     "ename": "PermissionError",
     "evalue": "[Errno 13] Permission denied: 'W:\\\\projects\\\\FlexiVexi\\\\behavioural_data\\\\FNT098\\\\2024-03-11T11-24-46\\\\spikeinterface\\\\quality_metrics_v3_good_units_2024-03-11T11-24-46.csv'",
     "output_type": "error",
     "traceback": [
      "\u001b[1;31m---------------------------------------------------------------------------\u001b[0m",
      "\u001b[1;31mPermissionError\u001b[0m                           Traceback (most recent call last)",
      "Cell \u001b[1;32mIn[19], line 9\u001b[0m\n\u001b[0;32m      7\u001b[0m \u001b[38;5;28;01mif\u001b[39;00m \u001b[38;5;129;01mnot\u001b[39;00m os\u001b[38;5;241m.\u001b[39mpath\u001b[38;5;241m.\u001b[39mexists(output_folder):\n\u001b[0;32m      8\u001b[0m     os\u001b[38;5;241m.\u001b[39mmakedirs(output_folder)\n\u001b[1;32m----> 9\u001b[0m \u001b[43mqm\u001b[49m\u001b[38;5;241;43m.\u001b[39;49m\u001b[43mto_csv\u001b[49m\u001b[43m(\u001b[49m\u001b[43mos\u001b[49m\u001b[38;5;241;43m.\u001b[39;49m\u001b[43mpath\u001b[49m\u001b[38;5;241;43m.\u001b[39;49m\u001b[43mjoin\u001b[49m\u001b[43m(\u001b[49m\u001b[43moutput_folder\u001b[49m\u001b[43m,\u001b[49m\u001b[43m \u001b[49m\u001b[43mfilename\u001b[49m\u001b[43m)\u001b[49m\u001b[43m)\u001b[49m\n",
      "File \u001b[1;32mc:\\Users\\megan\\anaconda3\\envs\\spikeinterface\\Lib\\site-packages\\pandas\\util\\_decorators.py:333\u001b[0m, in \u001b[0;36mdeprecate_nonkeyword_arguments.<locals>.decorate.<locals>.wrapper\u001b[1;34m(*args, **kwargs)\u001b[0m\n\u001b[0;32m    327\u001b[0m \u001b[38;5;28;01mif\u001b[39;00m \u001b[38;5;28mlen\u001b[39m(args) \u001b[38;5;241m>\u001b[39m num_allow_args:\n\u001b[0;32m    328\u001b[0m     warnings\u001b[38;5;241m.\u001b[39mwarn(\n\u001b[0;32m    329\u001b[0m         msg\u001b[38;5;241m.\u001b[39mformat(arguments\u001b[38;5;241m=\u001b[39m_format_argument_list(allow_args)),\n\u001b[0;32m    330\u001b[0m         \u001b[38;5;167;01mFutureWarning\u001b[39;00m,\n\u001b[0;32m    331\u001b[0m         stacklevel\u001b[38;5;241m=\u001b[39mfind_stack_level(),\n\u001b[0;32m    332\u001b[0m     )\n\u001b[1;32m--> 333\u001b[0m \u001b[38;5;28;01mreturn\u001b[39;00m \u001b[43mfunc\u001b[49m\u001b[43m(\u001b[49m\u001b[38;5;241;43m*\u001b[39;49m\u001b[43margs\u001b[49m\u001b[43m,\u001b[49m\u001b[43m \u001b[49m\u001b[38;5;241;43m*\u001b[39;49m\u001b[38;5;241;43m*\u001b[39;49m\u001b[43mkwargs\u001b[49m\u001b[43m)\u001b[49m\n",
      "File \u001b[1;32mc:\\Users\\megan\\anaconda3\\envs\\spikeinterface\\Lib\\site-packages\\pandas\\core\\generic.py:3967\u001b[0m, in \u001b[0;36mNDFrame.to_csv\u001b[1;34m(self, path_or_buf, sep, na_rep, float_format, columns, header, index, index_label, mode, encoding, compression, quoting, quotechar, lineterminator, chunksize, date_format, doublequote, escapechar, decimal, errors, storage_options)\u001b[0m\n\u001b[0;32m   3956\u001b[0m df \u001b[38;5;241m=\u001b[39m \u001b[38;5;28mself\u001b[39m \u001b[38;5;28;01mif\u001b[39;00m \u001b[38;5;28misinstance\u001b[39m(\u001b[38;5;28mself\u001b[39m, ABCDataFrame) \u001b[38;5;28;01melse\u001b[39;00m \u001b[38;5;28mself\u001b[39m\u001b[38;5;241m.\u001b[39mto_frame()\n\u001b[0;32m   3958\u001b[0m formatter \u001b[38;5;241m=\u001b[39m DataFrameFormatter(\n\u001b[0;32m   3959\u001b[0m     frame\u001b[38;5;241m=\u001b[39mdf,\n\u001b[0;32m   3960\u001b[0m     header\u001b[38;5;241m=\u001b[39mheader,\n\u001b[1;32m   (...)\u001b[0m\n\u001b[0;32m   3964\u001b[0m     decimal\u001b[38;5;241m=\u001b[39mdecimal,\n\u001b[0;32m   3965\u001b[0m )\n\u001b[1;32m-> 3967\u001b[0m \u001b[38;5;28;01mreturn\u001b[39;00m \u001b[43mDataFrameRenderer\u001b[49m\u001b[43m(\u001b[49m\u001b[43mformatter\u001b[49m\u001b[43m)\u001b[49m\u001b[38;5;241;43m.\u001b[39;49m\u001b[43mto_csv\u001b[49m\u001b[43m(\u001b[49m\n\u001b[0;32m   3968\u001b[0m \u001b[43m    \u001b[49m\u001b[43mpath_or_buf\u001b[49m\u001b[43m,\u001b[49m\n\u001b[0;32m   3969\u001b[0m \u001b[43m    \u001b[49m\u001b[43mlineterminator\u001b[49m\u001b[38;5;241;43m=\u001b[39;49m\u001b[43mlineterminator\u001b[49m\u001b[43m,\u001b[49m\n\u001b[0;32m   3970\u001b[0m \u001b[43m    \u001b[49m\u001b[43msep\u001b[49m\u001b[38;5;241;43m=\u001b[39;49m\u001b[43msep\u001b[49m\u001b[43m,\u001b[49m\n\u001b[0;32m   3971\u001b[0m \u001b[43m    \u001b[49m\u001b[43mencoding\u001b[49m\u001b[38;5;241;43m=\u001b[39;49m\u001b[43mencoding\u001b[49m\u001b[43m,\u001b[49m\n\u001b[0;32m   3972\u001b[0m \u001b[43m    \u001b[49m\u001b[43merrors\u001b[49m\u001b[38;5;241;43m=\u001b[39;49m\u001b[43merrors\u001b[49m\u001b[43m,\u001b[49m\n\u001b[0;32m   3973\u001b[0m \u001b[43m    \u001b[49m\u001b[43mcompression\u001b[49m\u001b[38;5;241;43m=\u001b[39;49m\u001b[43mcompression\u001b[49m\u001b[43m,\u001b[49m\n\u001b[0;32m   3974\u001b[0m \u001b[43m    \u001b[49m\u001b[43mquoting\u001b[49m\u001b[38;5;241;43m=\u001b[39;49m\u001b[43mquoting\u001b[49m\u001b[43m,\u001b[49m\n\u001b[0;32m   3975\u001b[0m \u001b[43m    \u001b[49m\u001b[43mcolumns\u001b[49m\u001b[38;5;241;43m=\u001b[39;49m\u001b[43mcolumns\u001b[49m\u001b[43m,\u001b[49m\n\u001b[0;32m   3976\u001b[0m \u001b[43m    \u001b[49m\u001b[43mindex_label\u001b[49m\u001b[38;5;241;43m=\u001b[39;49m\u001b[43mindex_label\u001b[49m\u001b[43m,\u001b[49m\n\u001b[0;32m   3977\u001b[0m \u001b[43m    \u001b[49m\u001b[43mmode\u001b[49m\u001b[38;5;241;43m=\u001b[39;49m\u001b[43mmode\u001b[49m\u001b[43m,\u001b[49m\n\u001b[0;32m   3978\u001b[0m \u001b[43m    \u001b[49m\u001b[43mchunksize\u001b[49m\u001b[38;5;241;43m=\u001b[39;49m\u001b[43mchunksize\u001b[49m\u001b[43m,\u001b[49m\n\u001b[0;32m   3979\u001b[0m \u001b[43m    \u001b[49m\u001b[43mquotechar\u001b[49m\u001b[38;5;241;43m=\u001b[39;49m\u001b[43mquotechar\u001b[49m\u001b[43m,\u001b[49m\n\u001b[0;32m   3980\u001b[0m \u001b[43m    \u001b[49m\u001b[43mdate_format\u001b[49m\u001b[38;5;241;43m=\u001b[39;49m\u001b[43mdate_format\u001b[49m\u001b[43m,\u001b[49m\n\u001b[0;32m   3981\u001b[0m \u001b[43m    \u001b[49m\u001b[43mdoublequote\u001b[49m\u001b[38;5;241;43m=\u001b[39;49m\u001b[43mdoublequote\u001b[49m\u001b[43m,\u001b[49m\n\u001b[0;32m   3982\u001b[0m \u001b[43m    \u001b[49m\u001b[43mescapechar\u001b[49m\u001b[38;5;241;43m=\u001b[39;49m\u001b[43mescapechar\u001b[49m\u001b[43m,\u001b[49m\n\u001b[0;32m   3983\u001b[0m \u001b[43m    \u001b[49m\u001b[43mstorage_options\u001b[49m\u001b[38;5;241;43m=\u001b[39;49m\u001b[43mstorage_options\u001b[49m\u001b[43m,\u001b[49m\n\u001b[0;32m   3984\u001b[0m \u001b[43m\u001b[49m\u001b[43m)\u001b[49m\n",
      "File \u001b[1;32mc:\\Users\\megan\\anaconda3\\envs\\spikeinterface\\Lib\\site-packages\\pandas\\io\\formats\\format.py:1014\u001b[0m, in \u001b[0;36mDataFrameRenderer.to_csv\u001b[1;34m(self, path_or_buf, encoding, sep, columns, index_label, mode, compression, quoting, quotechar, lineterminator, chunksize, date_format, doublequote, escapechar, errors, storage_options)\u001b[0m\n\u001b[0;32m    993\u001b[0m     created_buffer \u001b[38;5;241m=\u001b[39m \u001b[38;5;28;01mFalse\u001b[39;00m\n\u001b[0;32m    995\u001b[0m csv_formatter \u001b[38;5;241m=\u001b[39m CSVFormatter(\n\u001b[0;32m    996\u001b[0m     path_or_buf\u001b[38;5;241m=\u001b[39mpath_or_buf,\n\u001b[0;32m    997\u001b[0m     lineterminator\u001b[38;5;241m=\u001b[39mlineterminator,\n\u001b[1;32m   (...)\u001b[0m\n\u001b[0;32m   1012\u001b[0m     formatter\u001b[38;5;241m=\u001b[39m\u001b[38;5;28mself\u001b[39m\u001b[38;5;241m.\u001b[39mfmt,\n\u001b[0;32m   1013\u001b[0m )\n\u001b[1;32m-> 1014\u001b[0m \u001b[43mcsv_formatter\u001b[49m\u001b[38;5;241;43m.\u001b[39;49m\u001b[43msave\u001b[49m\u001b[43m(\u001b[49m\u001b[43m)\u001b[49m\n\u001b[0;32m   1016\u001b[0m \u001b[38;5;28;01mif\u001b[39;00m created_buffer:\n\u001b[0;32m   1017\u001b[0m     \u001b[38;5;28;01massert\u001b[39;00m \u001b[38;5;28misinstance\u001b[39m(path_or_buf, StringIO)\n",
      "File \u001b[1;32mc:\\Users\\megan\\anaconda3\\envs\\spikeinterface\\Lib\\site-packages\\pandas\\io\\formats\\csvs.py:251\u001b[0m, in \u001b[0;36mCSVFormatter.save\u001b[1;34m(self)\u001b[0m\n\u001b[0;32m    247\u001b[0m \u001b[38;5;250m\u001b[39m\u001b[38;5;124;03m\"\"\"\u001b[39;00m\n\u001b[0;32m    248\u001b[0m \u001b[38;5;124;03mCreate the writer & save.\u001b[39;00m\n\u001b[0;32m    249\u001b[0m \u001b[38;5;124;03m\"\"\"\u001b[39;00m\n\u001b[0;32m    250\u001b[0m \u001b[38;5;66;03m# apply compression and byte/text conversion\u001b[39;00m\n\u001b[1;32m--> 251\u001b[0m \u001b[38;5;28;01mwith\u001b[39;00m \u001b[43mget_handle\u001b[49m\u001b[43m(\u001b[49m\n\u001b[0;32m    252\u001b[0m \u001b[43m    \u001b[49m\u001b[38;5;28;43mself\u001b[39;49m\u001b[38;5;241;43m.\u001b[39;49m\u001b[43mfilepath_or_buffer\u001b[49m\u001b[43m,\u001b[49m\n\u001b[0;32m    253\u001b[0m \u001b[43m    \u001b[49m\u001b[38;5;28;43mself\u001b[39;49m\u001b[38;5;241;43m.\u001b[39;49m\u001b[43mmode\u001b[49m\u001b[43m,\u001b[49m\n\u001b[0;32m    254\u001b[0m \u001b[43m    \u001b[49m\u001b[43mencoding\u001b[49m\u001b[38;5;241;43m=\u001b[39;49m\u001b[38;5;28;43mself\u001b[39;49m\u001b[38;5;241;43m.\u001b[39;49m\u001b[43mencoding\u001b[49m\u001b[43m,\u001b[49m\n\u001b[0;32m    255\u001b[0m \u001b[43m    \u001b[49m\u001b[43merrors\u001b[49m\u001b[38;5;241;43m=\u001b[39;49m\u001b[38;5;28;43mself\u001b[39;49m\u001b[38;5;241;43m.\u001b[39;49m\u001b[43merrors\u001b[49m\u001b[43m,\u001b[49m\n\u001b[0;32m    256\u001b[0m \u001b[43m    \u001b[49m\u001b[43mcompression\u001b[49m\u001b[38;5;241;43m=\u001b[39;49m\u001b[38;5;28;43mself\u001b[39;49m\u001b[38;5;241;43m.\u001b[39;49m\u001b[43mcompression\u001b[49m\u001b[43m,\u001b[49m\n\u001b[0;32m    257\u001b[0m \u001b[43m    \u001b[49m\u001b[43mstorage_options\u001b[49m\u001b[38;5;241;43m=\u001b[39;49m\u001b[38;5;28;43mself\u001b[39;49m\u001b[38;5;241;43m.\u001b[39;49m\u001b[43mstorage_options\u001b[49m\u001b[43m,\u001b[49m\n\u001b[0;32m    258\u001b[0m \u001b[43m\u001b[49m\u001b[43m)\u001b[49m \u001b[38;5;28;01mas\u001b[39;00m handles:\n\u001b[0;32m    259\u001b[0m     \u001b[38;5;66;03m# Note: self.encoding is irrelevant here\u001b[39;00m\n\u001b[0;32m    260\u001b[0m     \u001b[38;5;28mself\u001b[39m\u001b[38;5;241m.\u001b[39mwriter \u001b[38;5;241m=\u001b[39m csvlib\u001b[38;5;241m.\u001b[39mwriter(\n\u001b[0;32m    261\u001b[0m         handles\u001b[38;5;241m.\u001b[39mhandle,\n\u001b[0;32m    262\u001b[0m         lineterminator\u001b[38;5;241m=\u001b[39m\u001b[38;5;28mself\u001b[39m\u001b[38;5;241m.\u001b[39mlineterminator,\n\u001b[1;32m   (...)\u001b[0m\n\u001b[0;32m    267\u001b[0m         quotechar\u001b[38;5;241m=\u001b[39m\u001b[38;5;28mself\u001b[39m\u001b[38;5;241m.\u001b[39mquotechar,\n\u001b[0;32m    268\u001b[0m     )\n\u001b[0;32m    270\u001b[0m     \u001b[38;5;28mself\u001b[39m\u001b[38;5;241m.\u001b[39m_save()\n",
      "File \u001b[1;32mc:\\Users\\megan\\anaconda3\\envs\\spikeinterface\\Lib\\site-packages\\pandas\\io\\common.py:873\u001b[0m, in \u001b[0;36mget_handle\u001b[1;34m(path_or_buf, mode, encoding, compression, memory_map, is_text, errors, storage_options)\u001b[0m\n\u001b[0;32m    868\u001b[0m \u001b[38;5;28;01melif\u001b[39;00m \u001b[38;5;28misinstance\u001b[39m(handle, \u001b[38;5;28mstr\u001b[39m):\n\u001b[0;32m    869\u001b[0m     \u001b[38;5;66;03m# Check whether the filename is to be opened in binary mode.\u001b[39;00m\n\u001b[0;32m    870\u001b[0m     \u001b[38;5;66;03m# Binary mode does not support 'encoding' and 'newline'.\u001b[39;00m\n\u001b[0;32m    871\u001b[0m     \u001b[38;5;28;01mif\u001b[39;00m ioargs\u001b[38;5;241m.\u001b[39mencoding \u001b[38;5;129;01mand\u001b[39;00m \u001b[38;5;124m\"\u001b[39m\u001b[38;5;124mb\u001b[39m\u001b[38;5;124m\"\u001b[39m \u001b[38;5;129;01mnot\u001b[39;00m \u001b[38;5;129;01min\u001b[39;00m ioargs\u001b[38;5;241m.\u001b[39mmode:\n\u001b[0;32m    872\u001b[0m         \u001b[38;5;66;03m# Encoding\u001b[39;00m\n\u001b[1;32m--> 873\u001b[0m         handle \u001b[38;5;241m=\u001b[39m \u001b[38;5;28;43mopen\u001b[39;49m\u001b[43m(\u001b[49m\n\u001b[0;32m    874\u001b[0m \u001b[43m            \u001b[49m\u001b[43mhandle\u001b[49m\u001b[43m,\u001b[49m\n\u001b[0;32m    875\u001b[0m \u001b[43m            \u001b[49m\u001b[43mioargs\u001b[49m\u001b[38;5;241;43m.\u001b[39;49m\u001b[43mmode\u001b[49m\u001b[43m,\u001b[49m\n\u001b[0;32m    876\u001b[0m \u001b[43m            \u001b[49m\u001b[43mencoding\u001b[49m\u001b[38;5;241;43m=\u001b[39;49m\u001b[43mioargs\u001b[49m\u001b[38;5;241;43m.\u001b[39;49m\u001b[43mencoding\u001b[49m\u001b[43m,\u001b[49m\n\u001b[0;32m    877\u001b[0m \u001b[43m            \u001b[49m\u001b[43merrors\u001b[49m\u001b[38;5;241;43m=\u001b[39;49m\u001b[43merrors\u001b[49m\u001b[43m,\u001b[49m\n\u001b[0;32m    878\u001b[0m \u001b[43m            \u001b[49m\u001b[43mnewline\u001b[49m\u001b[38;5;241;43m=\u001b[39;49m\u001b[38;5;124;43m\"\u001b[39;49m\u001b[38;5;124;43m\"\u001b[39;49m\u001b[43m,\u001b[49m\n\u001b[0;32m    879\u001b[0m \u001b[43m        \u001b[49m\u001b[43m)\u001b[49m\n\u001b[0;32m    880\u001b[0m     \u001b[38;5;28;01melse\u001b[39;00m:\n\u001b[0;32m    881\u001b[0m         \u001b[38;5;66;03m# Binary mode\u001b[39;00m\n\u001b[0;32m    882\u001b[0m         handle \u001b[38;5;241m=\u001b[39m \u001b[38;5;28mopen\u001b[39m(handle, ioargs\u001b[38;5;241m.\u001b[39mmode)\n",
      "\u001b[1;31mPermissionError\u001b[0m: [Errno 13] Permission denied: 'W:\\\\projects\\\\FlexiVexi\\\\behavioural_data\\\\FNT098\\\\2024-03-11T11-24-46\\\\spikeinterface\\\\quality_metrics_v3_good_units_2024-03-11T11-24-46.csv'"
     ]
    }
   ],
   "source": [
    "# depends on \"waveforms\", \"templates\", \"noise_levels\", and \"pca\" (if computing pca metrics)\n",
    "qm = sqm.compute_quality_metrics(sorting_analyzer, load_if_exists=None) \n",
    "\n",
    "# Save quality metrics to a .csv file\n",
    "output_folder = os.path.join(session_folder, 'spikeinterface')\n",
    "filename_qm = 'quality_metrics_v3_good_units_'+session_ID+'.csv'\n",
    "if not os.path.exists(output_folder):\n",
    "    os.makedirs(output_folder)\n",
    "qm.to_csv(os.path.join(output_folder, filename_qm))"
   ]
  },
  {
   "cell_type": "code",
   "execution_count": null,
   "metadata": {},
   "outputs": [],
   "source": [
    "# Save sorting analyzer to a .pkl file\n",
    "output_folder = os.path.join(session_folder, 'spikeinterface')\n",
    "filename_sa = 'sorting_analyzer_'+session_ID+'.pkl'\n",
    "filepath = os.path.join(output_folder, filename_sa) \n",
    "sc.load_sorting_analyzer(folder=filepath)"
   ]
  },
  {
   "cell_type": "markdown",
   "metadata": {},
   "source": [
    "**Get categorization of good versus bad units**"
   ]
  },
  {
   "cell_type": "code",
   "execution_count": null,
   "metadata": {},
   "outputs": [],
   "source": [
    "# Get KS Labels\n",
    "print(dir(se.KiloSortSortingExtractor))\n",
    "print(se.KiloSortSortingExtractor.get_property_keys(sorting_KS))\n",
    "help(se.KiloSortSortingExtractor.get_property)\n",
    "KS_Labels = se.KiloSortSortingExtractor.get_property(sorting_KS, key='KSLabel')\n",
    "cluster_IDs = se.KiloSortSortingExtractor.get_property(sorting_KS, key='original_cluster_id')\n",
    "\n",
    "# Append KS_Labels to quality metrics"
   ]
  },
  {
   "cell_type": "markdown",
   "metadata": {},
   "source": [
    "**Get signal quality metadata**"
   ]
  },
  {
   "cell_type": "code",
   "execution_count": 35,
   "metadata": {},
   "outputs": [
    {
     "name": "stdout",
     "output_type": "stream",
     "text": [
      "199 units in sorting analyzer.\n",
      "35339 spikes in sorting analyzer.\n",
      "L-ratio average: 6.711641021129618\n",
      "L-ratio median: 8.656063280979758\n",
      "Isolation distance average: 287736473182.91016\n",
      "Isolation distance median: 119.4447966314515\n",
      "D-prime average: 0.8059389818917121\n",
      "D-prime median: 0.719629915526518\n"
     ]
    }
   ],
   "source": [
    "# get sorting metadata\n",
    "num_units = se.KiloSortSortingExtractor.get_num_units(sorting_KS)\n",
    "print(str(num_units) + ' units in sorting analyzer.')\n",
    "\n",
    "num_spikes_per_unit = se.KiloSortSortingExtractor.count_num_spikes_per_unit(sorting_KS)\n",
    "num_spikes_total = sum(num_spikes)\n",
    "print(str(num_spikes_total) + ' spikes in sorting analyzer.')\n",
    "\n",
    "# get QM metadata\n",
    "l_ratio_average = qm['l_ratio'].mean()\n",
    "l_ratio_median = qm['l_ratio'].median()\n",
    "isolation_distance_average = qm['isolation_distance'].mean()\n",
    "isolation_distance_median = qm['isolation_distance'].median()\n",
    "d_prime_average = qm['d_prime'].mean()\n",
    "d_prime_median = qm['d_prime'].median()\n",
    "\n",
    "print('L-ratio average:', l_ratio_average)\n",
    "print('L-ratio median:', l_ratio_median)\n",
    "print('Isolation distance average:', isolation_distance_average)\n",
    "print('Isolation distance median:', isolation_distance_median)\n",
    "print('D-prime average:', d_prime_average)\n",
    "print('D-prime median:', d_prime_median)"
   ]
  },
  {
   "cell_type": "code",
   "execution_count": 47,
   "metadata": {},
   "outputs": [
    {
     "name": "stdout",
     "output_type": "stream",
     "text": [
      "Help on function load_metadata_from_folder in module spikeinterface.core.base:\n",
      "\n",
      "load_metadata_from_folder(self, folder_metadata)\n",
      "\n"
     ]
    }
   ],
   "source": [
    "help(se.KiloSortSortingExtractor.load_metadata_from_folder)"
   ]
  },
  {
   "cell_type": "markdown",
   "metadata": {},
   "source": [
    "**Analyse Units**"
   ]
  },
  {
   "cell_type": "code",
   "execution_count": 20,
   "metadata": {},
   "outputs": [
    {
     "data": {
      "text/plain": [
       "<spikeinterface.postprocessing.unit_localization.ComputeUnitLocations at 0x2bae487c770>"
      ]
     },
     "execution_count": 20,
     "metadata": {},
     "output_type": "execute_result"
    }
   ],
   "source": [
    "unit_locations = sorting_analyzer.compute(input=\"unit_locations\", method=\"monopolar_triangulation\")\n"
   ]
  },
  {
   "cell_type": "markdown",
   "metadata": {},
   "source": [
    "**Export sorting analyser to Phy**"
   ]
  },
  {
   "cell_type": "code",
   "execution_count": 13,
   "metadata": {},
   "outputs": [],
   "source": [
    "sexp.export_to_phy(sorting_analyzer, \"phy\", verbose=True)"
   ]
  }
 ],
 "metadata": {
  "kernelspec": {
   "display_name": "spikeinterface",
   "language": "python",
   "name": "python3"
  },
  "language_info": {
   "codemirror_mode": {
    "name": "ipython",
    "version": 3
   },
   "file_extension": ".py",
   "mimetype": "text/x-python",
   "name": "python",
   "nbconvert_exporter": "python",
   "pygments_lexer": "ipython3",
   "version": "3.12.2"
  }
 },
 "nbformat": 4,
 "nbformat_minor": 2
}
