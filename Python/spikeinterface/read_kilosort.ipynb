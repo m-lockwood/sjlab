{
 "cells": [
  {
   "cell_type": "code",
   "execution_count": 57,
   "metadata": {},
   "outputs": [],
   "source": [
    "import spikeinterface.core as sc\n",
    "import spikeinterface.extractors as se\n",
    "\n",
    "import numpy as np\n",
    "import matplotlib.pyplot as plt\n",
    "from pathlib import Path\n",
    "import os\n",
    "\n",
    "#######################################################################\n",
    "animal_ID = '98'\n",
    "session_ID = '2024-04-16T10-37-23'\n",
    "\n",
    "base_folder = r\"W:\\projects\\FlexiVexi\\behavioural_data\"\n",
    "session_folder = os.path.join(base_folder, animal_ID, session_ID)\n",
    "#######################################################################\n",
    "\n",
    "# Path to raw binary file from Open Ephys within session folder\n",
    "path_to_recording = r\"W:\\projects\\FlexiVexi\\behavioural_data\\98\\2024-04-16T10-37-23\\Open-Ephys\\98_2024-04-16_11-37-19\"\n",
    "\n",
    "# Path to Kilosort3 output files within session folder\n",
    "kilosort_folder = os.path.join(session_folder, 'kilosort3')\n"
   ]
  },
  {
   "cell_type": "markdown",
   "metadata": {},
   "source": [
    "**Read in recording and spike sorting**"
   ]
  },
  {
   "cell_type": "code",
   "execution_count": 62,
   "metadata": {},
   "outputs": [
    {
     "ename": "AttributeError",
     "evalue": "module 'spikeinterface.core' has no attribute 'create_sorting_analyzer'",
     "output_type": "error",
     "traceback": [
      "\u001b[1;31m---------------------------------------------------------------------------\u001b[0m",
      "\u001b[1;31mAttributeError\u001b[0m                            Traceback (most recent call last)",
      "Cell \u001b[1;32mIn[62], line 10\u001b[0m\n\u001b[0;32m      7\u001b[0m recording \u001b[38;5;241m=\u001b[39m se\u001b[38;5;241m.\u001b[39mread_openephys(folder_path\u001b[38;5;241m=\u001b[39mpath_to_recording, stream_name \u001b[38;5;241m=\u001b[39m \u001b[38;5;124m'\u001b[39m\u001b[38;5;124mRecord Node 102#Neuropix-PXI-100.ProbeA\u001b[39m\u001b[38;5;124m'\u001b[39m)\n\u001b[0;32m      8\u001b[0m recording\n\u001b[1;32m---> 10\u001b[0m sc\u001b[38;5;241m.\u001b[39mcreate_sorting_analyzer(sorting_KS, recording)\n",
      "\u001b[1;31mAttributeError\u001b[0m: module 'spikeinterface.core' has no attribute 'create_sorting_analyzer'"
     ]
    }
   ],
   "source": [
    "# Get output from spike sorting using Kilosort3\n",
    "sorting_KS = se.read_kilosort(folder_path=kilosort_folder)\n",
    "sorting_KS\n",
    "\n",
    "# Get recording from open ephys\n",
    "recording = se.read_openephys(folder_path=path_to_recording, stream_name = 'Record Node 102#Neuropix-PXI-100.ProbeA')\n",
    "recording\n",
    "\n",
    "# Create a sorting analyzer\n",
    "sc.create_sorting_analyzer(sorting_KS, recording)"
   ]
  }
 ],
 "metadata": {
  "kernelspec": {
   "display_name": "spikeinterface",
   "language": "python",
   "name": "python3"
  },
  "language_info": {
   "codemirror_mode": {
    "name": "ipython",
    "version": 3
   },
   "file_extension": ".py",
   "mimetype": "text/x-python",
   "name": "python",
   "nbconvert_exporter": "python",
   "pygments_lexer": "ipython3",
   "version": "3.12.2"
  }
 },
 "nbformat": 4,
 "nbformat_minor": 2
}
