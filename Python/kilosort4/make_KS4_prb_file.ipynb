{
 "cells": [
  {
   "cell_type": "code",
   "execution_count": 5,
   "metadata": {},
   "outputs": [
    {
     "name": "stderr",
     "output_type": "stream",
     "text": [
      "c:\\Users\\Lab7\\anaconda3\\envs\\spikeinterface-gui\\Lib\\site-packages\\tqdm\\auto.py:21: TqdmWarning: IProgress not found. Please update jupyter and ipywidgets. See https://ipywidgets.readthedocs.io/en/stable/user_install.html\n",
      "  from .autonotebook import tqdm as notebook_tqdm\n"
     ]
    }
   ],
   "source": [
    "import spikeinterface.core as sc\n",
    "import spikeinterface.extractors as se\n",
    "import spikeinterface.qualitymetrics as sqm\n",
    "import spikeinterface.widgets as sw\n",
    "import spikeinterface.exporters as sexp\n",
    "from probeinterface import ProbeGroup, write_prb\n",
    "from probeinterface.plotting import plot_probe\n",
    "\n",
    "\n",
    "import numpy as np\n",
    "import matplotlib.pyplot as plt\n",
    "import pandas as pd\n",
    "from pathlib import Path\n",
    "import os\n",
    "import glob\n",
    "\n",
    "%matplotlib inline\n",
    "\n",
    "#######################################################################\n",
    "animal_ID = 'FNT098'\n",
    "session_ID = '2024-03-11T11-24-46'\n",
    "\n",
    "base_folder = r\"Z:\\projects\\FlexiVexi\\behavioural_data\"\n",
    "session_folder = os.path.join(base_folder, animal_ID, session_ID)\n",
    "\n",
    "#######################################################################"
   ]
  },
  {
   "cell_type": "markdown",
   "metadata": {},
   "source": [
    "**Load Raw Recording**"
   ]
  },
  {
   "cell_type": "code",
   "execution_count": 6,
   "metadata": {},
   "outputs": [],
   "source": [
    "# Get path to Open-Ephys Record Node within session folder\n",
    "matching_files = glob.glob(os.path.join(session_folder, '**', 'settings.xml'), recursive=True)\n",
    "if matching_files:\n",
    "    # Get the first matching file\n",
    "    first_matching_file = matching_files[0]\n",
    "  \n",
    "    # Get the directory of the first matching file\n",
    "    path_to_recording = os.path.dirname(first_matching_file)\n",
    "else:\n",
    "    print(\"No 'settings.xml' file found in the specified path.\")\n",
    "    \n",
    "# Get recording from open ephys\n",
    "recording = se.read_openephys(folder_path=path_to_recording, stream_name = 'Record Node 102#Neuropix-PXI-100.ProbeA')"
   ]
  },
  {
   "cell_type": "markdown",
   "metadata": {},
   "source": [
    "**Export probe as .prb file**"
   ]
  },
  {
   "cell_type": "code",
   "execution_count": 14,
   "metadata": {},
   "outputs": [
    {
     "name": "stdout",
     "output_type": "stream",
     "text": [
      "['__class__', '__delattr__', '__dict__', '__dir__', '__doc__', '__eq__', '__format__', '__ge__', '__getattribute__', '__getstate__', '__gt__', '__hash__', '__init__', '__init_subclass__', '__le__', '__lt__', '__module__', '__ne__', '__new__', '__reduce__', '__reduce_ex__', '__repr__', '__setattr__', '__sizeof__', '__str__', '__subclasshook__', '__weakref__', '_contact_ids', '_contact_plane_axes', '_contact_positions', '_contact_shape_params', '_contact_shapes', '_dump_attr_names', '_probe_group', '_shank_ids', 'add_probe_to_zarr_group', 'annotate', 'annotate_contacts', 'annotations', 'check_annotations', 'contact_annotations', 'contact_ids', 'contact_plane_axes', 'contact_positions', 'contact_shape_params', 'contact_shapes', 'copy', 'create_auto_shape', 'device_channel_indices', 'from_dataframe', 'from_dict', 'from_numpy', 'from_zarr', 'from_zarr_group', 'get_contact_count', 'get_contact_vertices', 'get_shank_count', 'get_shanks', 'get_slice', 'get_title', 'manufacturer', 'model_name', 'move', 'name', 'ndim', 'probe_planar_contour', 'rotate', 'rotate_contacts', 'serial_number', 'set_contact_ids', 'set_contacts', 'set_device_channel_indices', 'set_planar_contour', 'set_shank_ids', 'shank_ids', 'si_units', 'to_2d', 'to_3d', 'to_dataframe', 'to_dict', 'to_image', 'to_numpy', 'to_zarr', 'wiring_to_device']\n"
     ]
    },
    {
     "data": {
      "image/png": "[encoded data removed]",
      "text/plain": [
       "<Figure size 640x480 with 1 Axes>"
      ]
     },
     "metadata": {},
     "output_type": "display_data"
    }
   ],
   "source": [
    "probe = recording.get_probe()\n",
    "pg = ProbeGroup()\n",
    "pg.add_probe(probe)\n",
    "\n",
    "# Write probe file\n",
    "write_prb(os.path.join(session_folder, 'probe.prb'), pg)\n",
    "\n",
    "plot_probe(probe)\n",
    "\n",
    "print(dir(probe))"
   ]
  },
  {
   "cell_type": "markdown",
   "metadata": {},
   "source": [
    "**Run Kilosort**"
   ]
  },
  {
   "cell_type": "code",
   "execution_count": 13,
   "metadata": {},
   "outputs": [
    {
     "ename": "ModuleNotFoundError",
     "evalue": "No module named 'kilosort'",
     "output_type": "error",
     "traceback": [
      "\u001b[1;31m---------------------------------------------------------------------------\u001b[0m",
      "\u001b[1;31mModuleNotFoundError\u001b[0m                       Traceback (most recent call last)",
      "Cell \u001b[1;32mIn[13], line 1\u001b[0m\n\u001b[1;32m----> 1\u001b[0m \u001b[38;5;28;01mfrom\u001b[39;00m \u001b[38;5;21;01mkilosort\u001b[39;00m \u001b[38;5;28;01mimport\u001b[39;00m run_kilosort\n\u001b[0;32m      3\u001b[0m \u001b[38;5;66;03m# NOTE: 'n_chan_bin' is a required setting, and should reflect the total number\u001b[39;00m\n\u001b[0;32m      4\u001b[0m \u001b[38;5;66;03m#       of channels in the binary file. For information on other available\u001b[39;00m\n\u001b[0;32m      5\u001b[0m \u001b[38;5;66;03m#       settings, see `kilosort.run_kilosort.default_settings`.\u001b[39;00m\n\u001b[0;32m      6\u001b[0m settings \u001b[38;5;241m=\u001b[39m {\u001b[38;5;124m'\u001b[39m\u001b[38;5;124mdata_dir\u001b[39m\u001b[38;5;124m'\u001b[39m: SAVE_PATH\u001b[38;5;241m.\u001b[39mparent, \u001b[38;5;124m'\u001b[39m\u001b[38;5;124mn_chan_bin\u001b[39m\u001b[38;5;124m'\u001b[39m: \u001b[38;5;241m385\u001b[39m}\n",
      "\u001b[1;31mModuleNotFoundError\u001b[0m: No module named 'kilosort'"
     ]
    }
   ],
   "source": [
    "from kilosort import run_kilosort\n",
    "\n",
    "# NOTE: 'n_chan_bin' is a required setting, and should reflect the total number\n",
    "#       of channels in the binary file. For information on other available\n",
    "#       settings, see `kilosort.run_kilosort.default_settings`.\n",
    "settings = {'data_dir': SAVE_PATH.parent, 'n_chan_bin': 385}\n",
    "\n",
    "ops, st, clu, tF, Wall, similar_templates, is_ref, est_contam_rate = \\\n",
    "    run_kilosort(settings=settings, probe_name='neuropixPhase3B1_kilosortChanMap.mat')"
   ]
  }
 ],
 "metadata": {
  "kernelspec": {
   "display_name": "kilosort4",
   "language": "python",
   "name": "python3"
  },
  "language_info": {
   "codemirror_mode": {
    "name": "ipython",
    "version": 3
   },
   "file_extension": ".py",
   "mimetype": "text/x-python",
   "name": "python",
   "nbconvert_exporter": "python",
   "pygments_lexer": "ipython3",
   "version": "3.12.2"
  }
 },
 "nbformat": 4,
 "nbformat_minor": 2
}
